{
 "cells": [
  {
   "cell_type": "markdown",
   "metadata": {},
   "source": [
    "## Ejercicio: Uso de funciones en Python\n",
    "## Ejercicio 1: Trabajar con argumentos en funciones\n",
    "\n",
    "Comienza por crear una función que necesite tres lecturas de combustible y devuelva un informe:"
   ]
  },
  {
   "cell_type": "code",
   "execution_count": 10,
   "metadata": {},
   "outputs": [],
   "source": [
    "# Función que lee 3 tanques de combustible y muestra el promedio\n",
    "\n",
    "def reporteCombustible(one_Tank, two_Tank, three_Tank):\n",
    "    average = (one_Tank + two_Tank + three_Tank) / 3\n",
    "    return f\"\"\" Report: \n",
    "    onet tank={one_Tank} two tank={two_Tank} three tank={three_Tank}\n",
    "    -------------------------------------------------- \n",
    "    Average Tanks = {average}\n",
    "    \"\"\""
   ]
  },
  {
   "cell_type": "markdown",
   "metadata": {},
   "source": [
    "Ahora que hemos definido la función de informes, vamos a comprobarlo. Para esta misión, los tanques no están llenos:"
   ]
  },
  {
   "cell_type": "code",
   "execution_count": 22,
   "metadata": {},
   "outputs": [
    {
     "name": "stdout",
     "output_type": "stream",
     "text": [
      "\n",
      "    Report: \n",
      "    one tank=50 two tank=100 three tank=562\n",
      "    ---------------------------------------------------------------\n",
      "    Average Tanks = 237.33333333333334\n",
      "    \n"
     ]
    }
   ],
   "source": [
    "# Función que lee 3 tanques de combustible y muestra el promedio\n",
    "\n",
    "def reporteCombustible(one_Tank, two_Tank, three_Tank):\n",
    "    average = (one_Tank + two_Tank + three_Tank) / 3\n",
    "    return f\"\"\"\n",
    "    Report: \n",
    "    one tank={one_Tank} two tank={two_Tank} three tank={three_Tank}\n",
    "    ---------------------------------------------------------------\n",
    "    Average Tanks = {average}\n",
    "    \"\"\"\n",
    "\n",
    "# Llamamos a la función que genera el reporte y le añadimos los valores a evaluar\n",
    "print(reporteCombustible(50, 100, 562))"
   ]
  },
  {
   "cell_type": "markdown",
   "metadata": {},
   "source": [
    "En lugar de simplemente crear el informe, la función también está calculando el promedio.\n",
    "\n",
    "Mejora la legibilidad extrayendo el cálculo promedio de la función en una nueva función para que el promedio se pueda hacer de forma independiente:"
   ]
  },
  {
   "cell_type": "code",
   "execution_count": 23,
   "metadata": {},
   "outputs": [
    {
     "name": "stdout",
     "output_type": "stream",
     "text": [
      "79.0\n"
     ]
    }
   ],
   "source": [
    "# Función promedio\n",
    "\n",
    "def averageTanks(values):\n",
    "    average = sum(values) / len(values)\n",
    "    return average\n",
    "\n",
    "print(averageTanks([65, 100, 72]))"
   ]
  },
  {
   "cell_type": "code",
   "execution_count": 24,
   "metadata": {},
   "outputs": [
    {
     "name": "stdout",
     "output_type": "stream",
     "text": [
      "\n",
      "    Report: \n",
      "    one tank=65 two tank=100 three tank=72\n",
      "    -------------------------------------------------- \n",
      "    average tanks = 79.0\n",
      "    \n"
     ]
    }
   ],
   "source": [
    "# Nueva función\n",
    "def average_Tanks(values):\n",
    "    average = sum(values) / len(values)\n",
    "    return average\n",
    "\n",
    "# Función para leer 3 tanques de combustible y muestre el promedio\n",
    "def reporteCombustible(oneTank, twoTank, threeTank):\n",
    "    return f\"\"\"\n",
    "    Report: \n",
    "    one tank={oneTank} two tank={twoTank} three tank={threeTank}\n",
    "    -------------------------------------------------- \n",
    "    average tanks = {average_Tanks([oneTank, twoTank, threeTank])}\n",
    "    \"\"\"\n",
    "\n",
    "# Llamamos a la función que genera el reporte print(funcion(tanque1, tanque2, tanque3))\n",
    "print(reporteCombustible(65, 100, 72))"
   ]
  },
  {
   "cell_type": "markdown",
   "metadata": {},
   "source": [
    "## Ejercicio 2: Trabajo con argumentos de palabra clave\n",
    "Ejercicio : Trabajar con argumentos de palabras clave en funciones\n",
    "\n",
    "En este ejercicio, construirás un informe de cohete que requiere varias piezas de información, como el tiempo hasta el destino, el combustible a la izquierda y el nombre del destino. Comienza por crear una función que creará un informe preciso de la misión:\n",
    "\n",
    "Función con un informe preciso de la misión. Considera hora de prelanzamiento, tiempo de vuelo, destino, tanque externo y tanque interno"
   ]
  },
  {
   "cell_type": "code",
   "execution_count": 25,
   "metadata": {},
   "outputs": [
    {
     "name": "stdout",
     "output_type": "stream",
     "text": [
      "\n",
      "    Destination: Planet Jupiter\n",
      "    Prelaunch time: 20 minutes\n",
      "    Flight time: 34 minutes\n",
      "    External Tank: 9630\n",
      "    Inner Tank: 100000\n",
      "    \n"
     ]
    }
   ],
   "source": [
    "def reporteMision(pre_launch_time, flight_time, destination, extern_tank, inner_tank):\n",
    "    return f\"\"\"\n",
    "    Destination: {destination}\n",
    "    Prelaunch time: {pre_launch_time} minutes\n",
    "    Flight time: {flight_time} minutes\n",
    "    External Tank: {extern_tank}\n",
    "    Inner Tank: {inner_tank}\n",
    "    \"\"\"\n",
    "\n",
    "print(reporteMision(20, 34, \"Planet Jupiter\", 9630, 100000))"
   ]
  },
  {
   "cell_type": "markdown",
   "metadata": {},
   "source": [
    "La función es problemática porque no se puede adaptar para minutos adicionales o tanques adicionales de combustible. Hazlo más flexible permitiendo cualquier número de pasos basados en el tiempo y cualquier número de tanques. En lugar de usar args y **kwargs, aprovecha el hecho de que puedes usar cualquier nombre que desees. Asegurate que la función sea más legible mediante el uso de nombres de variables que están asociados con las entradas, como minutes y **fuel_reservoirs:\n",
    "\n",
    "\n",
    "Escribe tu nueva función de reporte considerando lo anterior"
   ]
  },
  {
   "cell_type": "code",
   "execution_count": 26,
   "metadata": {},
   "outputs": [
    {
     "name": "stdout",
     "output_type": "stream",
     "text": [
      "\n",
      "    Destination: Planet Jupiter\n",
      "    Total travel time: 60\n",
      "    External tank: 9630\n",
      "    Inner tank: 100000\n",
      "    \n"
     ]
    }
   ],
   "source": [
    "\n",
    "def reporteMision( destination, *minutes,**tanks): \n",
    "    return f\"\"\"\n",
    "    Destination: {destination}\n",
    "    Total travel time: {sum(minutes)}\n",
    "    External tank: {tanks['extern_tank']}\n",
    "    Inner tank: {tanks['inner_tank']}\n",
    "    \"\"\"\n",
    "\n",
    "print(reporteMision( \"Planet Jupiter\", 18, 42, extern_tank=9630, inner_tank=100000))"
   ]
  },
  {
   "cell_type": "markdown",
   "metadata": {},
   "source": [
    "Debido a que el combustible que queda en los tanques es específico de cada tanque, actualiza la función para usar el nombre de cada tanque en el informe:"
   ]
  },
  {
   "cell_type": "code",
   "execution_count": 27,
   "metadata": {},
   "outputs": [
    {
     "name": "stdout",
     "output_type": "stream",
     "text": [
      "\n",
      "    Destination: Planet Jupiter\n",
      "    Total travel time: 60\n",
      "    Total Tanks: 109630\n",
      "    External Tank: 9630\n",
      "    Inner Tank: 100000\n",
      "    \n"
     ]
    }
   ],
   "source": [
    "def reporteMision( destination, *minutes,**tanks): \n",
    "    return f\"\"\"\n",
    "    Destination: {destination}\n",
    "    Total travel time: {sum(minutes)}\n",
    "    Total Tanks: {sum(tanks.values())}\n",
    "    External Tank: {tanks['extern_tank']}\n",
    "    Inner Tank: {tanks['inner_tank']}\n",
    "    \"\"\"\n",
    "\n",
    "print(reporteMision( \"Planet Jupiter\", 18, 42, extern_tank=9630, inner_tank=100000))"
   ]
  }
 ],
 "metadata": {
  "interpreter": {
   "hash": "d4a6bcd36dab1ffc8409246364cf0abb1b88d8628692c92346c357ae2e34383a"
  },
  "kernelspec": {
   "display_name": "Python 3.10.2 64-bit (windows store)",
   "language": "python",
   "name": "python3"
  },
  "language_info": {
   "codemirror_mode": {
    "name": "ipython",
    "version": 3
   },
   "file_extension": ".py",
   "mimetype": "text/x-python",
   "name": "python",
   "nbconvert_exporter": "python",
   "pygments_lexer": "ipython3",
   "version": "3.10.2"
  },
  "orig_nbformat": 4
 },
 "nbformat": 4,
 "nbformat_minor": 2
}
