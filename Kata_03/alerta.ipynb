{
 "cells": [
  {
   "cell_type": "markdown",
   "metadata": {},
   "source": [
    "# USO DE IF, ELSE Y ELIF\n",
    "\n",
    "IF para cuando cierta condición se cumpla\n",
    "\n",
    "ELSE para cuando esa condición no se cumple\n",
    "\n",
    "ELIF cuando la primera condición no se cumple y se evalua una nueva.\n",
    "\n",
    "\n",
    "\n",
    "## Ejercicio 1\n",
    "\n",
    "Si la velocidad de un asteroide es mayor a 25 se manda una alerta, sí es menor todo esta bien."
   ]
  },
  {
   "cell_type": "code",
   "execution_count": 1,
   "metadata": {},
   "outputs": [
    {
     "name": "stdout",
     "output_type": "stream",
     "text": [
      "!Alerta! ¡El asteroide esta muy cerca!\n"
     ]
    }
   ],
   "source": [
    "velocidad = int(input(\"¿Qué tan cerca esta el asteroide del sol?\"))\n",
    "\n",
    "if velocidad > 25:\n",
    "    print(\"!Alerta! ¡El asteroide esta muy cerca!\")\n",
    "else:\n",
    "    print(\"Todo en orden\")\n"
   ]
  },
  {
   "cell_type": "markdown",
   "metadata": {},
   "source": [
    "# Ejercio 2\n",
    "\n",
    "1.- Si un asteroide entra en la atmósfera de la Tierra a una velocidad >= a 20 km/s, a veces produce un rayo de luz.\n",
    "\n",
    "2.-Si la velocidad es igual a 19 el mensaje será: ¡Hay un asteroide que se dirige a la tierra a una velocidad de 19 km/s!\n",
    "\n"
   ]
  },
  {
   "cell_type": "code",
   "execution_count": 2,
   "metadata": {},
   "outputs": [
    {
     "name": "stdout",
     "output_type": "stream",
     "text": [
      "Asomate al cielo, se produjo un rayo de luz\n"
     ]
    }
   ],
   "source": [
    "velocidad = int(input(\"¿Cuál es la velocidad del asteroide?\"))\n",
    "if velocidad >= 20:\n",
    "    print(\"Asomate al cielo, se produjo un rayo de luz\")\n",
    "elif velocidad == 19:\n",
    "    print(\"¡Hay un asteroide que se dirige a la tierra a una velocidad de 19 km/s!\")\n",
    "else:\n",
    "    print(\"Todo bien\")"
   ]
  },
  {
   "cell_type": "markdown",
   "metadata": {},
   "source": [
    "## Ejercicio 3\n",
    "\n",
    "1.- Los asteroides < 25 metros en su dimensión, probablemente se quemarán a medida que entren en la atmósfera de la Tierra.\n",
    "\n",
    "2.- Si una pieza de un asteroide > 25 metros pero más pequeña que 1000 metros golpeara la Tierra, causaría mucho daño.\n",
    "También discutimos en el ejercicio anterior que:\n",
    "\n",
    "3.- Cualquier velocidad superior a 25 kilómetros por segundo merece una advertencia.\n",
    "\n",
    "4.- Si un asteroide entra en la atmósfera de la Tierra a una velocidad mayor o igual a 20 km/s, a veces produce un rayo de luz que se puede ver desde la Tierra.\n",
    "\n"
   ]
  },
  {
   "cell_type": "code",
   "execution_count": 3,
   "metadata": {},
   "outputs": [
    {
     "name": "stdout",
     "output_type": "stream",
     "text": [
      "Asomate al cielo, el asteroide pudo a ver producido un rayito de luz\n"
     ]
    }
   ],
   "source": [
    "tamaño = 25\n",
    "velocidad = 46\n",
    "if tamaño > 25 and tamaño < 1000 and velocidad >= 25:\n",
    "    print(\"Alerta máxima, el asteroide golpeara la tierra\")\n",
    "\n",
    "elif tamaño < 25: \n",
    "    print(\"El asteroide probablemente se quemara a medida que entre en la atmósfera de la Tierra.\")\n",
    "\n",
    "elif velocidad >= 20:\n",
    "    print(\"Asomate al cielo, el asteroide pudo a ver producido un rayito de luz\")\n",
    "\n",
    "elif velocidad == 19:\n",
    "    print(\"¡Hay un asteroide que se dirige a la tierra a una velocidad de 19 km/s!\")\n",
    "\n",
    "else:    \n",
    "    print(\"Todo bien\")\n",
    "\n"
   ]
  }
 ],
 "metadata": {
  "interpreter": {
   "hash": "d4a6bcd36dab1ffc8409246364cf0abb1b88d8628692c92346c357ae2e34383a"
  },
  "kernelspec": {
   "display_name": "Python 3.10.2 64-bit (windows store)",
   "language": "python",
   "name": "python3"
  },
  "language_info": {
   "codemirror_mode": {
    "name": "ipython",
    "version": 3
   },
   "file_extension": ".py",
   "mimetype": "text/x-python",
   "name": "python",
   "nbconvert_exporter": "python",
   "pygments_lexer": "ipython3",
   "version": "3.10.2"
  },
  "orig_nbformat": 4
 },
 "nbformat": 4,
 "nbformat_minor": 2
}
