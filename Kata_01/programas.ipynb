{
 "cells": [
  {
   "cell_type": "markdown",
   "metadata": {},
   "source": [
    "## KATA1\n",
    "# Primer programa\n",
    "\n",
    "El programa debe mostrar la fecha de hoy. \n",
    "\n",
    "*El programa utiliza \"datetime\" que es un módulo que contiene clases que sirven para manipular fechas y horas."
   ]
  },
  {
   "cell_type": "code",
   "execution_count": 4,
   "metadata": {},
   "outputs": [
    {
     "name": "stdout",
     "output_type": "stream",
     "text": [
      "Today's date is: 2022-02-08\n"
     ]
    }
   ],
   "source": [
    "from datetime import date\n",
    "todayDay = str(date.today());\n",
    "print(\"Today's date is: \" + todayDay);"
   ]
  },
  {
   "cell_type": "markdown",
   "metadata": {},
   "source": [
    "## CONVERTIDOR DE UNIDADES\n",
    "\n",
    "Con input podemos pedir datos al usuario y al ponerle un int antes nos convierte la información ingresada por el usuario en número.\n"
   ]
  },
  {
   "cell_type": "code",
   "execution_count": 8,
   "metadata": {},
   "outputs": [
    {
     "name": "stdout",
     "output_type": "stream",
     "text": [
      "2 parsec es igual a:  6.52312\n"
     ]
    }
   ],
   "source": [
    "lightyear = 3.26156;\n",
    "parsec=int(input(\"Cantidad en parsec a convertir en años luz: \"))\n",
    "result = lightyear * parsec\n",
    "print(parsec, \"parsec es igual a: \", result )\n",
    "\n"
   ]
  }
 ],
 "metadata": {
  "interpreter": {
   "hash": "d4a6bcd36dab1ffc8409246364cf0abb1b88d8628692c92346c357ae2e34383a"
  },
  "kernelspec": {
   "display_name": "Python 3.10.2 64-bit (windows store)",
   "language": "python",
   "name": "python3"
  },
  "language_info": {
   "codemirror_mode": {
    "name": "ipython",
    "version": 3
   },
   "file_extension": ".py",
   "mimetype": "text/x-python",
   "name": "python",
   "nbconvert_exporter": "python",
   "pygments_lexer": "ipython3",
   "version": "3.10.2"
  },
  "orig_nbformat": 4
 },
 "nbformat": 4,
 "nbformat_minor": 2
}
